{
 "cells": [
  {
   "cell_type": "code",
   "execution_count": 29,
   "id": "a87661ca-f613-4f2a-a785-6778a73114b5",
   "metadata": {},
   "outputs": [],
   "source": [
    "import pandas as pd\n",
    "import matplotlib.pyplot as plt\n",
    "import seaborn as sns"
   ]
  },
  {
   "cell_type": "code",
   "execution_count": 11,
   "id": "d12f9015-b509-4c25-8dbf-653afed16fd6",
   "metadata": {},
   "outputs": [],
   "source": [
    "def wrangle(filepath):\n",
    "    # Load data\n",
    "    df = pd.read_csv(filepath)  \n",
    "\n",
    "    # Remove \"/year\" and \"/day\".\n",
    "    df[\"Price\"] = df[\"Price\"].str.replace(r\"/\\w+\", \"\", regex=True) \n",
    "    df[\"Price\"] = df[\"Price\"].str.replace(\",\", \"\").astype(float)\n",
    "\n",
    "     # Extract numbers and fill NaN with 0 and convert to int\n",
    "    df[\"Bathrooms\"] = df[\"Bathrooms\"].str.extract(r\"(\\d+)\")  \n",
    "    df[\"Bathrooms\"] = df[\"Bathrooms\"].fillna(0).astype(int)\n",
    "    \n",
    "    df[\"Bedrooms\"] = df[\"Bedrooms\"].str.extract(r\"(\\d+)\")  \n",
    "    df[\"Bedrooms\"] = df[\"Bedrooms\"].fillna(0).astype(int)\n",
    "    \n",
    "    df[\"Toilets\"] = df[\"Toilets\"].str.extract(r\"(\\d+)\") \n",
    "    df[\"Toilets\"] = df[\"Toilets\"].fillna(0).astype(int)\n",
    "\n",
    "    # Remove extreme outliers (below 100K or above 40M NGN)\n",
    "    df = df[(df[\"Price\"] >= 100000) & (df[\"Price\"] <= 40000000)]\n",
    "    \n",
    "\n",
    "\n",
    "\n",
    "    return df "
   ]
  },
  {
   "cell_type": "code",
   "execution_count": 12,
   "id": "3a479530-db3a-4d8d-a4b4-48b9fd1df6f9",
   "metadata": {},
   "outputs": [],
   "source": [
    "filepath = \"C:/Users/KINGLEY EYO/Downloads/housinginlagos.csv\"\n",
    "df = wrangle(filepath)"
   ]
  },
  {
   "cell_type": "code",
   "execution_count": 13,
   "id": "f687aeb5-fa79-4a02-9638-c50e441075e0",
   "metadata": {},
   "outputs": [
    {
     "data": {
      "text/html": [
       "<div>\n",
       "<style scoped>\n",
       "    .dataframe tbody tr th:only-of-type {\n",
       "        vertical-align: middle;\n",
       "    }\n",
       "\n",
       "    .dataframe tbody tr th {\n",
       "        vertical-align: top;\n",
       "    }\n",
       "\n",
       "    .dataframe thead th {\n",
       "        text-align: right;\n",
       "    }\n",
       "</style>\n",
       "<table border=\"1\" class=\"dataframe\">\n",
       "  <thead>\n",
       "    <tr style=\"text-align: right;\">\n",
       "      <th></th>\n",
       "      <th>Title</th>\n",
       "      <th>More Info</th>\n",
       "      <th>Price</th>\n",
       "      <th>Serviced</th>\n",
       "      <th>Newly Built</th>\n",
       "      <th>Furnished</th>\n",
       "      <th>Bedrooms</th>\n",
       "      <th>Bathrooms</th>\n",
       "      <th>Toilets</th>\n",
       "      <th>City</th>\n",
       "      <th>Neighborhood</th>\n",
       "    </tr>\n",
       "  </thead>\n",
       "  <tbody>\n",
       "    <tr>\n",
       "      <th>0</th>\n",
       "      <td>Newly Built 4 Bedroom Semi Detached House With Bq</td>\n",
       "      <td>4 BEDROOM HOUSE FOR RENT</td>\n",
       "      <td>5000000.0</td>\n",
       "      <td>0</td>\n",
       "      <td>1</td>\n",
       "      <td>0</td>\n",
       "      <td>4</td>\n",
       "      <td>4</td>\n",
       "      <td>5</td>\n",
       "      <td>Lekki</td>\n",
       "      <td>Agungi</td>\n",
       "    </tr>\n",
       "    <tr>\n",
       "      <th>1</th>\n",
       "      <td>Superb 4 Bedroom Semi Detached Duplex With Bq</td>\n",
       "      <td>4 BEDROOM HOUSE FOR RENT</td>\n",
       "      <td>5000000.0</td>\n",
       "      <td>0</td>\n",
       "      <td>1</td>\n",
       "      <td>0</td>\n",
       "      <td>4</td>\n",
       "      <td>4</td>\n",
       "      <td>5</td>\n",
       "      <td>Lekki</td>\n",
       "      <td>Other Lekki</td>\n",
       "    </tr>\n",
       "    <tr>\n",
       "      <th>2</th>\n",
       "      <td>Furnished 2 Bedroom Terrace Duplex For Rent !!!</td>\n",
       "      <td>2 BEDROOM HOUSE FOR RENT</td>\n",
       "      <td>3500000.0</td>\n",
       "      <td>1</td>\n",
       "      <td>0</td>\n",
       "      <td>0</td>\n",
       "      <td>2</td>\n",
       "      <td>3</td>\n",
       "      <td>3</td>\n",
       "      <td>Lekki</td>\n",
       "      <td>Osapa London</td>\n",
       "    </tr>\n",
       "    <tr>\n",
       "      <th>3</th>\n",
       "      <td>2 Bedroom Apartment For Rent</td>\n",
       "      <td>2 BEDROOM HOUSE FOR RENT</td>\n",
       "      <td>2700000.0</td>\n",
       "      <td>1</td>\n",
       "      <td>1</td>\n",
       "      <td>0</td>\n",
       "      <td>2</td>\n",
       "      <td>3</td>\n",
       "      <td>3</td>\n",
       "      <td>Lekki</td>\n",
       "      <td>Ologolo</td>\n",
       "    </tr>\n",
       "    <tr>\n",
       "      <th>4</th>\n",
       "      <td>4 Bedroom Terrace Duplex For Rent</td>\n",
       "      <td>4 BEDROOM HOUSE FOR RENT</td>\n",
       "      <td>4000000.0</td>\n",
       "      <td>1</td>\n",
       "      <td>0</td>\n",
       "      <td>0</td>\n",
       "      <td>4</td>\n",
       "      <td>5</td>\n",
       "      <td>5</td>\n",
       "      <td>Lekki</td>\n",
       "      <td>Chevron</td>\n",
       "    </tr>\n",
       "  </tbody>\n",
       "</table>\n",
       "</div>"
      ],
      "text/plain": [
       "                                               Title  \\\n",
       "0  Newly Built 4 Bedroom Semi Detached House With Bq   \n",
       "1      Superb 4 Bedroom Semi Detached Duplex With Bq   \n",
       "2    Furnished 2 Bedroom Terrace Duplex For Rent !!!   \n",
       "3                       2 Bedroom Apartment For Rent   \n",
       "4                  4 Bedroom Terrace Duplex For Rent   \n",
       "\n",
       "                  More Info      Price  Serviced  Newly Built  Furnished  \\\n",
       "0  4 BEDROOM HOUSE FOR RENT  5000000.0         0            1          0   \n",
       "1  4 BEDROOM HOUSE FOR RENT  5000000.0         0            1          0   \n",
       "2  2 BEDROOM HOUSE FOR RENT  3500000.0         1            0          0   \n",
       "3  2 BEDROOM HOUSE FOR RENT  2700000.0         1            1          0   \n",
       "4  4 BEDROOM HOUSE FOR RENT  4000000.0         1            0          0   \n",
       "\n",
       "   Bedrooms  Bathrooms  Toilets   City  Neighborhood  \n",
       "0         4          4        5  Lekki        Agungi  \n",
       "1         4          4        5  Lekki   Other Lekki  \n",
       "2         2          3        3  Lekki  Osapa London  \n",
       "3         2          3        3  Lekki       Ologolo  \n",
       "4         4          5        5  Lekki       Chevron  "
      ]
     },
     "execution_count": 13,
     "metadata": {},
     "output_type": "execute_result"
    }
   ],
   "source": [
    "df.head()"
   ]
  },
  {
   "cell_type": "code",
   "execution_count": 7,
   "id": "82f8565b-b125-4387-a651-83604931261b",
   "metadata": {},
   "outputs": [],
   "source": [
    "df.to_csv(r'C:\\Users\\KINGLEY EYO\\Documents\\housing_in_lagos_cleaned_data.csv', index=False)\n"
   ]
  },
  {
   "cell_type": "code",
   "execution_count": 15,
   "id": "65c20edf-3bbd-45f7-8eed-e961efd1a66a",
   "metadata": {},
   "outputs": [
    {
     "name": "stdout",
     "output_type": "stream",
     "text": [
      "Average House Prices by City:\n",
      "        City  Average_Price\n",
      "0      Ajah   1.465496e+06\n",
      "1   Gbagada   1.446077e+06\n",
      "2     Ikeja   3.952847e+06\n",
      "3     Ikoyi   1.202389e+07\n",
      "4    Island   7.797697e+06\n",
      "5     Lekki   3.876316e+06\n",
      "6     Ojodu   1.485587e+06\n",
      "7  Surulere   1.277284e+06\n",
      "8      Yaba   1.112504e+06\n",
      "\n",
      "Average House Prices by Neighborhood:\n",
      "                  Neighborhood  Average_Price\n",
      "0                        1004   4.974225e+06\n",
      "1                     Adelabu   1.686348e+06\n",
      "2               Adeniyi Jones   3.202124e+06\n",
      "3                Adeola Odeku   1.141554e+07\n",
      "4                         Ado   1.205441e+06\n",
      "..                        ...            ...\n",
      "64                  Sangotedo   1.449924e+06\n",
      "65                     Soluyi   1.119415e+06\n",
      "66               Toyin street   1.716277e+06\n",
      "67  Victoria Island Extension   9.035858e+06\n",
      "68                     alausa   3.440157e+06\n",
      "\n",
      "[69 rows x 2 columns]\n"
     ]
    }
   ],
   "source": [
    "# Group by City and calculate average price\n",
    "avg_price_city = df.groupby('City', as_index=False)['Price'].mean()\n",
    "avg_price_city.columns = ['City', 'Average_Price']\n",
    "\n",
    "# Group by Neighborhood and calculate average price\n",
    "avg_price_neighborhood = df.groupby('Neighborhood', as_index=False)['Price'].mean()\n",
    "avg_price_neighborhood.columns = ['Neighborhood', 'Average_Price']\n",
    "\n",
    "\n",
    "print(\"Average House Prices by City:\\n\", avg_price_city)\n",
    "print(\"\\nAverage House Prices by Neighborhood:\\n\", avg_price_neighborhood)"
   ]
  },
  {
   "cell_type": "code",
   "execution_count": 18,
   "id": "ec955212-e04c-4bd6-a0c0-a86dbc90f756",
   "metadata": {},
   "outputs": [],
   "source": [
    "save_path = \"C:/Users/KINGLEY EYO/Documents/\""
   ]
  },
  {
   "cell_type": "code",
   "execution_count": 19,
   "id": "0c1323b3-050e-4e12-9100-5b1d1f8794f5",
   "metadata": {},
   "outputs": [],
   "source": [
    "avg_price_city.to_csv(save_path + \"average_price_city.csv\", index=False)\n",
    "avg_price_neighborhood.to_csv(save_path + \"average_price_neighborhood.csv\", index=False)"
   ]
  },
  {
   "cell_type": "code",
   "execution_count": 23,
   "id": "e9c658b9-73e1-4698-9089-30b581d21787",
   "metadata": {},
   "outputs": [
    {
     "name": "stdout",
     "output_type": "stream",
     "text": [
      "Bedrooms\n",
      "3     13593\n",
      "1     10633\n",
      "2     10114\n",
      "4      9085\n",
      "0      5451\n",
      "5      2825\n",
      "6       281\n",
      "10      131\n",
      "7        78\n",
      "8        56\n",
      "9        18\n",
      "Name: count, dtype: int64\n"
     ]
    }
   ],
   "source": [
    "\n",
    "print(df[\"Bedrooms\"].value_counts())"
   ]
  },
  {
   "cell_type": "code",
   "execution_count": 24,
   "id": "706895be-7724-4d90-892a-2cf33dc37328",
   "metadata": {},
   "outputs": [],
   "source": [
    "# Bedroom count data\n",
    "bedrooms = [3, 1, 2, 4, 0, 5, 6, 10, 7, 8, 9]\n",
    "counts = [13593, 10633, 10114, 9085, 5451, 2825, 281, 131, 78, 56, 18]"
   ]
  },
  {
   "cell_type": "code",
   "execution_count": 27,
   "id": "cdac277c-5438-47b1-b5d0-e26ca409561e",
   "metadata": {},
   "outputs": [
    {
     "data": {
      "image/png": "[encoded data removed]",
      "text/plain": [
       "<Figure size 1000x600 with 1 Axes>"
      ]
     },
     "metadata": {},
     "output_type": "display_data"
    }
   ],
   "source": [
    "# Plot bar chart\n",
    "plt.figure(figsize=(10, 6))\n",
    "plt.bar(bedrooms, counts, color=\"skyblue\")\n",
    "\n",
    "# Labels and title\n",
    "plt.xlabel(\"Number of Bedrooms\")\n",
    "plt.ylabel(\"Count\")\n",
    "plt.title(\"Distribution of Bedroom Counts\")\n",
    "plt.xticks(bedrooms)  \n",
    "\n",
    "# Show plot\n",
    "plt.show()"
   ]
  },
  {
   "cell_type": "code",
   "execution_count": 20,
   "id": "85f3120f-d589-41c0-8cc2-d2028258bd61",
   "metadata": {},
   "outputs": [
    {
     "name": "stdout",
     "output_type": "stream",
     "text": [
      "    City  Bedrooms         Price\n",
      "0   Ajah         0  1.288209e+06\n",
      "1   Ajah         1  5.760500e+05\n",
      "2   Ajah         2  1.232887e+06\n",
      "3   Ajah         3  1.566011e+06\n",
      "4   Ajah         4  2.987220e+06\n",
      "..   ...       ...           ...\n",
      "87  Yaba         5  3.395455e+06\n",
      "88  Yaba         6  2.000000e+06\n",
      "89  Yaba         8  3.000000e+06\n",
      "90  Yaba         9  5.000000e+06\n",
      "91  Yaba        10  6.500000e+06\n",
      "\n",
      "[92 rows x 3 columns]\n"
     ]
    }
   ],
   "source": [
    "# Group by City and Bedrooms, then calculate average price\n",
    "avg_price_per_bedroom = df.groupby([\"City\", \"Bedrooms\"])[\"Price\"].mean().reset_index()\n",
    "\n",
    "# Display the results\n",
    "print(avg_price_per_bedroom)"
   ]
  },
  {
   "cell_type": "code",
   "execution_count": null,
   "id": "c5886a8d-f843-4aca-a048-3d2abfa0e511",
   "metadata": {},
   "outputs": [],
   "source": [
    "avg_price_neighborhood.to_csv(save_path + \"average_price_neighborhood.csv\", index=False)"
   ]
  },
  {
   "cell_type": "code",
   "execution_count": 30,
   "id": "afde58c6-8c23-400c-a272-a36bd245939e",
   "metadata": {},
   "outputs": [
    {
     "data": {
      "image/png": "[encoded data removed]",
      "text/plain": [
       "<Figure size 1200x600 with 1 Axes>"
      ]
     },
     "metadata": {},
     "output_type": "display_data"
    }
   ],
   "source": [
    "# Plot\n",
    "plt.figure(figsize=(12, 6))\n",
    "sns.barplot(x=\"Bedrooms\", y=\"Price\", hue=\"City\", data=avg_price_per_bedroom)\n",
    "\n",
    "# Labels and Title\n",
    "plt.xlabel(\"Number of Bedrooms\")\n",
    "plt.ylabel(\"Average Price (₦)\")\n",
    "plt.title(\"Average Price Per Bedroom Per City\")\n",
    "plt.legend(title=\"City\")\n",
    "\n",
    "# Show plot\n",
    "plt.show()"
   ]
  },
  {
   "cell_type": "code",
   "execution_count": 32,
   "id": "1d955bc5-37f0-4c44-9913-17cb232fd038",
   "metadata": {},
   "outputs": [
    {
     "name": "stdout",
     "output_type": "stream",
     "text": [
      "    Bedrooms         Price\n",
      "0          0  3.370249e+06\n",
      "1          1  9.398243e+05\n",
      "2          2  2.101418e+06\n",
      "3          3  3.785816e+06\n",
      "4          4  6.223090e+06\n",
      "5          5  8.463631e+06\n",
      "6          6  1.145135e+07\n",
      "7          7  1.363846e+07\n",
      "8          8  1.465179e+07\n",
      "9          9  1.594444e+07\n",
      "10        10  1.771350e+07\n"
     ]
    }
   ],
   "source": [
    "# Group by Bedroom count and calculate the average price\n",
    "avg_price_per_bedroom = df.groupby(\"Bedrooms\")[\"Price\"].mean().reset_index()\n",
    "\n",
    "# Display the results\n",
    "print(avg_price_per_bedroom)"
   ]
  },
  {
   "cell_type": "code",
   "execution_count": null,
   "id": "4bee3f7a-ed4a-4ff4-bce5-740154f46254",
   "metadata": {},
   "outputs": [],
   "source": []
  }
 ],
 "metadata": {
  "kernelspec": {
   "display_name": "Python 3 (ipykernel)",
   "language": "python",
   "name": "python3"
  },
  "language_info": {
   "codemirror_mode": {
    "name": "ipython",
    "version": 3
   },
   "file_extension": ".py",
   "mimetype": "text/x-python",
   "name": "python",
   "nbconvert_exporter": "python",
   "pygments_lexer": "ipython3",
   "version": "3.12.7"
  }
 },
 "nbformat": 4,
 "nbformat_minor": 5
}
